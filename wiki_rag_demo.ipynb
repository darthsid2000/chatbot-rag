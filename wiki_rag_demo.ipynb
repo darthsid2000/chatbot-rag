{
 "cells": [
  {
   "cell_type": "markdown",
   "id": "5ed7d597",
   "metadata": {},
   "source": [
    "# Wikibot RAG Demo\n",
    "Inspired by LangChain RAG Demo"
   ]
  },
  {
   "cell_type": "markdown",
   "id": "fdafe225",
   "metadata": {},
   "source": [
    "## Setup"
   ]
  },
  {
   "cell_type": "markdown",
   "id": "e2e97192",
   "metadata": {},
   "source": [
    "### LangSmith"
   ]
  },
  {
   "cell_type": "code",
   "execution_count": null,
   "id": "6eaf74f6",
   "metadata": {},
   "outputs": [],
   "source": [
    "import getpass\n",
    "import os\n",
    "\n",
    "os.environ[\"LANGSMITH_TRACING\"] = \"true\"\n",
    "os.environ[\"LANGSMITH_API_KEY\"] = getpass.getpass()"
   ]
  },
  {
   "cell_type": "markdown",
   "id": "a2e5f8eb",
   "metadata": {},
   "source": [
    "### Chat model (Gemini 2.5 Flash-Lite)"
   ]
  },
  {
   "cell_type": "code",
   "execution_count": null,
   "id": "a0d6c01e",
   "metadata": {},
   "outputs": [],
   "source": [
    "if not os.environ.get(\"GOOGLE_API_KEY\"):\n",
    "  os.environ[\"GOOGLE_API_KEY\"] = getpass.getpass(\"Enter API key for Google Gemini: \")\n",
    "\n",
    "from langchain.chat_models import init_chat_model\n",
    "\n",
    "llm = init_chat_model(\"gemini-2.5-flash-lite\", model_provider=\"google_genai\")"
   ]
  },
  {
   "cell_type": "markdown",
   "id": "ade1c787",
   "metadata": {},
   "source": [
    "### Embedding model (text-embedding-3-large)"
   ]
  },
  {
   "cell_type": "code",
   "execution_count": null,
   "id": "69503dfc",
   "metadata": {},
   "outputs": [],
   "source": [
    "if not os.environ.get(\"OPENAI_API_KEY\"):\n",
    "  os.environ[\"OPENAI_API_KEY\"] = getpass.getpass(\"Enter API key for OpenAI: \")\n",
    "\n",
    "from langchain_openai import OpenAIEmbeddings\n",
    "\n",
    "embeddings = OpenAIEmbeddings(model=\"text-embedding-3-large\")"
   ]
  },
  {
   "cell_type": "markdown",
   "id": "a955b3a8",
   "metadata": {},
   "source": [
    "### Vector store (FAISS)"
   ]
  },
  {
   "cell_type": "code",
   "execution_count": null,
   "id": "84e02533",
   "metadata": {},
   "outputs": [],
   "source": [
    "import faiss\n",
    "from langchain_community.docstore.in_memory import InMemoryDocstore\n",
    "from langchain_community.vectorstores import FAISS\n",
    "\n",
    "embedding_dim = len(embeddings.embed_query(\"hello world\"))\n",
    "index = faiss.IndexFlatL2(embedding_dim)\n",
    "\n",
    "vector_store = FAISS(\n",
    "    embedding_function=embeddings,\n",
    "    index=index,\n",
    "    docstore=InMemoryDocstore(),\n",
    "    index_to_docstore_id={},\n",
    ")"
   ]
  },
  {
   "cell_type": "markdown",
   "id": "accea254",
   "metadata": {},
   "source": [
    "## Indexing"
   ]
  },
  {
   "cell_type": "markdown",
   "id": "87150adb",
   "metadata": {},
   "source": [
    "### Loading documents"
   ]
  },
  {
   "cell_type": "code",
   "execution_count": null,
   "id": "558401f0",
   "metadata": {},
   "outputs": [],
   "source": [
    "import re\n",
    "import xml.etree.ElementTree as ET\n",
    "from langchain import hub\n",
    "from langchain_core.documents import Document\n",
    "from langchain_text_splitters import RecursiveCharacterTextSplitter\n",
    "from langgraph.graph import START, StateGraph\n",
    "from typing_extensions import List, TypedDict\n",
    "\n",
    "XML_PATH = \"stormlightarchive_pages_current.xml\"\n",
    "\n",
    "try:\n",
    "    import mwparserfromhell as mw\n",
    "except ImportError:\n",
    "    mw = None\n",
    "\n",
    "def strip_wiki(text: str) -> str:\n",
    "    if not text:\n",
    "        return \"\"\n",
    "    if mw:\n",
    "        parsed = mw.parse(text)\n",
    "        text = parsed.strip_code(normalize=True, collapse=True)\n",
    "    text = re.sub(r\"\\[\\[(?:[^|\\]]*\\|)?([^\\]]+)\\]\\]\", r\"\\1\", text)\n",
    "    text = re.sub(r\"<ref[^>]*>.*?</ref>\", \"\", text, flags=re.DOTALL)\n",
    "    text = re.sub(r\"<[^>]+>\", \"\", text)\n",
    "    text = re.sub(r\"\\s+\\n\", \"\\n\", text)\n",
    "    return text.strip()\n",
    "\n",
    "def normalize_title(title: str) -> str:\n",
    "    return (title or \"\").strip().lower().replace(\" \", \"_\")\n",
    "\n",
    "def iter_pages(xml_path: str):\n",
    "    tree = ET.parse(xml_path)\n",
    "    root = tree.getroot()\n",
    "    ns = \"\"\n",
    "    if root.tag.startswith(\"{\"):\n",
    "        ns = root.tag.split(\"}\")[0] + \"}\"\n",
    "    for page in root.findall(f\".//{ns}page\"):\n",
    "        title_el = page.find(f\"{ns}title\")\n",
    "        rev_el = page.find(f\"{ns}revision\")\n",
    "        text_el = rev_el.find(f\"{ns}text\") if rev_el is not None else None\n",
    "        title = title_el.text if title_el is not None else \"\"\n",
    "        text = text_el.text if text_el is not None else \"\"\n",
    "        yield title, text\n",
    "\n",
    "text_splitter = RecursiveCharacterTextSplitter(\n",
    "    chunk_size=1000,\n",
    "    chunk_overlap=200,\n",
    "    separators=[\"\\n\\n\", \"\\n\", \" \", \"\"],\n",
    ")\n",
    "\n",
    "docs: list[Document] = []\n",
    "skipped = 0\n",
    "for raw_title, raw_text in iter_pages(XML_PATH):\n",
    "    if not raw_text:\n",
    "        continue\n",
    "    clean = strip_wiki(raw_text)\n",
    "    if not clean or len(clean) < 200:\n",
    "        skipped += 1\n",
    "        continue\n",
    "\n",
    "    title_norm = normalize_title(raw_title)\n",
    "    splits = text_splitter.split_text(clean)\n",
    "\n",
    "    for i, chunk in enumerate(splits):\n",
    "        docs.append(\n",
    "            Document(\n",
    "                page_content=chunk,\n",
    "                metadata={\n",
    "                    \"source\": \"stormlight_fandom\",\n",
    "                    \"title\": raw_title,\n",
    "                    \"title_norm\": title_norm,\n",
    "                    \"chunk_id\": i,\n",
    "                },\n",
    "            )\n",
    "        )\n",
    "\n",
    "# Index chunks\n",
    "_ = vector_store.add_documents(documents=docs)\n",
    "print(f\"Ingested {len(docs)} chunks from Stormlight Fandom XML (skipped {skipped} pages).\")"
   ]
  },
  {
   "cell_type": "markdown",
   "id": "65f3bbbe",
   "metadata": {},
   "source": [
    "## Retrieval and Generation"
   ]
  },
  {
   "cell_type": "code",
   "execution_count": null,
   "id": "327c1daf",
   "metadata": {},
   "outputs": [],
   "source": [
    "# Define prompt for question-answering\n",
    "# N.B. for non-US LangSmith endpoints, you may need to specify\n",
    "# api_url=\"https://api.smith.langchain.com\" in hub.pull.\n",
    "prompt = hub.pull(\"rlm/rag-prompt\")\n",
    "\n",
    "\n",
    "# Define state for application\n",
    "class State(TypedDict):\n",
    "    question: str\n",
    "    context: List[Document]\n",
    "    answer: str\n",
    "\n",
    "\n",
    "# Define application steps\n",
    "def retrieve(state: State):\n",
    "    retrieved_docs = vector_store.similarity_search(state[\"question\"])\n",
    "    return {\"context\": retrieved_docs}\n",
    "\n",
    "\n",
    "def generate(state: State):\n",
    "    docs_content = \"\\n\\n\".join(doc.page_content for doc in state[\"context\"])\n",
    "    messages = prompt.invoke({\"question\": state[\"question\"], \"context\": docs_content})\n",
    "    response = llm.invoke(messages)\n",
    "    return {\"answer\": response.content}\n",
    "\n",
    "\n",
    "# Compile application and test\n",
    "graph_builder = StateGraph(State).add_sequence([retrieve, generate])\n",
    "graph_builder.add_edge(START, \"retrieve\")\n",
    "graph = graph_builder.compile()"
   ]
  },
  {
   "cell_type": "code",
   "execution_count": null,
   "id": "d8f68dbf",
   "metadata": {},
   "outputs": [],
   "source": [
    "response = graph.invoke({\"question\": \"Who is Kaladin, according to the first book?\"})\n",
    "print(response[\"answer\"])"
   ]
  },
  {
   "cell_type": "code",
   "execution_count": null,
   "id": "2463010c",
   "metadata": {},
   "outputs": [],
   "source": [
    "response = graph.invoke({\"question\": \"What is the first book in the Stormlight Archive called?\"})\n",
    "print(response[\"answer\"])"
   ]
  },
  {
   "cell_type": "code",
   "execution_count": null,
   "id": "0f292fc2",
   "metadata": {},
   "outputs": [],
   "source": []
  }
 ],
 "metadata": {
  "kernelspec": {
   "display_name": "venv",
   "language": "python",
   "name": "python3"
  },
  "language_info": {
   "codemirror_mode": {
    "name": "ipython",
    "version": 3
   },
   "file_extension": ".py",
   "mimetype": "text/x-python",
   "name": "python",
   "nbconvert_exporter": "python",
   "pygments_lexer": "ipython3",
   "version": "3.11.6"
  }
 },
 "nbformat": 4,
 "nbformat_minor": 5
}
